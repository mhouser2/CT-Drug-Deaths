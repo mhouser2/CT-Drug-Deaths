{
 "cells": [
  {
   "cell_type": "code",
   "execution_count": 1,
   "metadata": {},
   "outputs": [
    {
     "data": {
      "text/html": [
       "<div>\n",
       "<style scoped>\n",
       "    .dataframe tbody tr th:only-of-type {\n",
       "        vertical-align: middle;\n",
       "    }\n",
       "\n",
       "    .dataframe tbody tr th {\n",
       "        vertical-align: top;\n",
       "    }\n",
       "\n",
       "    .dataframe thead th {\n",
       "        text-align: right;\n",
       "    }\n",
       "</style>\n",
       "<table border=\"1\" class=\"dataframe\">\n",
       "  <thead>\n",
       "    <tr style=\"text-align: right;\">\n",
       "      <th></th>\n",
       "      <th>Date</th>\n",
       "      <th>DateType</th>\n",
       "      <th>Age</th>\n",
       "      <th>Sex</th>\n",
       "      <th>Race</th>\n",
       "      <th>ResidenceCity</th>\n",
       "      <th>ResidenceCounty</th>\n",
       "      <th>ResidenceState</th>\n",
       "      <th>DeathCity</th>\n",
       "      <th>DeathCounty</th>\n",
       "      <th>...</th>\n",
       "      <th>Tramad</th>\n",
       "      <th>Morphine_NotHeroin</th>\n",
       "      <th>Hydromorphone</th>\n",
       "      <th>Other</th>\n",
       "      <th>OpiateNOS</th>\n",
       "      <th>AnyOpioid</th>\n",
       "      <th>MannerofDeath</th>\n",
       "      <th>DeathCityGeo</th>\n",
       "      <th>ResidenceCityGeo</th>\n",
       "      <th>InjuryCityGeo</th>\n",
       "    </tr>\n",
       "    <tr>\n",
       "      <th>ID</th>\n",
       "      <th></th>\n",
       "      <th></th>\n",
       "      <th></th>\n",
       "      <th></th>\n",
       "      <th></th>\n",
       "      <th></th>\n",
       "      <th></th>\n",
       "      <th></th>\n",
       "      <th></th>\n",
       "      <th></th>\n",
       "      <th></th>\n",
       "      <th></th>\n",
       "      <th></th>\n",
       "      <th></th>\n",
       "      <th></th>\n",
       "      <th></th>\n",
       "      <th></th>\n",
       "      <th></th>\n",
       "      <th></th>\n",
       "      <th></th>\n",
       "      <th></th>\n",
       "    </tr>\n",
       "  </thead>\n",
       "  <tbody>\n",
       "    <tr>\n",
       "      <th>14-0273</th>\n",
       "      <td>06/28/2014 12:00:00 AM</td>\n",
       "      <td>DateReported</td>\n",
       "      <td>NaN</td>\n",
       "      <td>NaN</td>\n",
       "      <td>NaN</td>\n",
       "      <td>NaN</td>\n",
       "      <td>NaN</td>\n",
       "      <td>NaN</td>\n",
       "      <td>NaN</td>\n",
       "      <td>NaN</td>\n",
       "      <td>...</td>\n",
       "      <td>NaN</td>\n",
       "      <td>NaN</td>\n",
       "      <td>NaN</td>\n",
       "      <td>NaN</td>\n",
       "      <td>NaN</td>\n",
       "      <td>NaN</td>\n",
       "      <td>Accident</td>\n",
       "      <td>CT\\n(41.575155, -72.738288)</td>\n",
       "      <td>CT\\n(41.575155, -72.738288)</td>\n",
       "      <td>CT\\n(41.575155, -72.738288)</td>\n",
       "    </tr>\n",
       "    <tr>\n",
       "      <th>13-0102</th>\n",
       "      <td>03/21/2013 12:00:00 AM</td>\n",
       "      <td>DateofDeath</td>\n",
       "      <td>48.0</td>\n",
       "      <td>Male</td>\n",
       "      <td>Black</td>\n",
       "      <td>NORWALK</td>\n",
       "      <td>NaN</td>\n",
       "      <td>NaN</td>\n",
       "      <td>NORWALK</td>\n",
       "      <td>FAIRFIELD</td>\n",
       "      <td>...</td>\n",
       "      <td>NaN</td>\n",
       "      <td>NaN</td>\n",
       "      <td>NaN</td>\n",
       "      <td>NaN</td>\n",
       "      <td>NaN</td>\n",
       "      <td>NaN</td>\n",
       "      <td>Accident</td>\n",
       "      <td>Norwalk, CT\\n(41.11805, -73.412906)</td>\n",
       "      <td>NORWALK, CT\\n(41.11805, -73.412906)</td>\n",
       "      <td>CT\\n(41.575155, -72.738288)</td>\n",
       "    </tr>\n",
       "    <tr>\n",
       "      <th>16-0165</th>\n",
       "      <td>03/13/2016 12:00:00 AM</td>\n",
       "      <td>DateofDeath</td>\n",
       "      <td>30.0</td>\n",
       "      <td>Female</td>\n",
       "      <td>White</td>\n",
       "      <td>SANDY HOOK</td>\n",
       "      <td>FAIRFIELD</td>\n",
       "      <td>CT</td>\n",
       "      <td>DANBURY</td>\n",
       "      <td>NaN</td>\n",
       "      <td>...</td>\n",
       "      <td>NaN</td>\n",
       "      <td>NaN</td>\n",
       "      <td>NaN</td>\n",
       "      <td>NaN</td>\n",
       "      <td>NaN</td>\n",
       "      <td>Y</td>\n",
       "      <td>Accident</td>\n",
       "      <td>Danbury, CT\\n(41.393666, -73.451539)</td>\n",
       "      <td>SANDY HOOK, CT\\n(41.419998, -73.282501)</td>\n",
       "      <td>NaN</td>\n",
       "    </tr>\n",
       "    <tr>\n",
       "      <th>16-0208</th>\n",
       "      <td>03/31/2016 12:00:00 AM</td>\n",
       "      <td>DateofDeath</td>\n",
       "      <td>23.0</td>\n",
       "      <td>Male</td>\n",
       "      <td>White</td>\n",
       "      <td>RYE</td>\n",
       "      <td>WESTCHESTER</td>\n",
       "      <td>NY</td>\n",
       "      <td>GREENWICH</td>\n",
       "      <td>NaN</td>\n",
       "      <td>...</td>\n",
       "      <td>NaN</td>\n",
       "      <td>NaN</td>\n",
       "      <td>NaN</td>\n",
       "      <td>NaN</td>\n",
       "      <td>NaN</td>\n",
       "      <td>Y</td>\n",
       "      <td>Accident</td>\n",
       "      <td>Greenwich, CT\\n(41.026526, -73.628549)</td>\n",
       "      <td>NaN</td>\n",
       "      <td>NaN</td>\n",
       "    </tr>\n",
       "    <tr>\n",
       "      <th>13-0052</th>\n",
       "      <td>02/13/2013 12:00:00 AM</td>\n",
       "      <td>DateofDeath</td>\n",
       "      <td>22.0</td>\n",
       "      <td>Male</td>\n",
       "      <td>Asian, Other</td>\n",
       "      <td>FLUSHING</td>\n",
       "      <td>QUEENS</td>\n",
       "      <td>NaN</td>\n",
       "      <td>GREENWICH</td>\n",
       "      <td>FAIRFIELD</td>\n",
       "      <td>...</td>\n",
       "      <td>NaN</td>\n",
       "      <td>NaN</td>\n",
       "      <td>NaN</td>\n",
       "      <td>NaN</td>\n",
       "      <td>NaN</td>\n",
       "      <td>NaN</td>\n",
       "      <td>Accident</td>\n",
       "      <td>Greenwich, CT\\n(41.026526, -73.628549)</td>\n",
       "      <td>NaN</td>\n",
       "      <td>CT\\n(41.575155, -72.738288)</td>\n",
       "    </tr>\n",
       "  </tbody>\n",
       "</table>\n",
       "<p>5 rows × 40 columns</p>\n",
       "</div>"
      ],
      "text/plain": [
       "                           Date      DateType   Age     Sex          Race  \\\n",
       "ID                                                                          \n",
       "14-0273  06/28/2014 12:00:00 AM  DateReported   NaN     NaN           NaN   \n",
       "13-0102  03/21/2013 12:00:00 AM   DateofDeath  48.0    Male         Black   \n",
       "16-0165  03/13/2016 12:00:00 AM   DateofDeath  30.0  Female         White   \n",
       "16-0208  03/31/2016 12:00:00 AM   DateofDeath  23.0    Male         White   \n",
       "13-0052  02/13/2013 12:00:00 AM   DateofDeath  22.0    Male  Asian, Other   \n",
       "\n",
       "        ResidenceCity ResidenceCounty ResidenceState  DeathCity DeathCounty  \\\n",
       "ID                                                                            \n",
       "14-0273           NaN             NaN            NaN        NaN         NaN   \n",
       "13-0102       NORWALK             NaN            NaN    NORWALK   FAIRFIELD   \n",
       "16-0165    SANDY HOOK       FAIRFIELD             CT    DANBURY         NaN   \n",
       "16-0208           RYE     WESTCHESTER             NY  GREENWICH         NaN   \n",
       "13-0052      FLUSHING          QUEENS            NaN  GREENWICH   FAIRFIELD   \n",
       "\n",
       "         ... Tramad Morphine_NotHeroin Hydromorphone Other OpiateNOS  \\\n",
       "ID       ...                                                           \n",
       "14-0273  ...    NaN                NaN           NaN   NaN       NaN   \n",
       "13-0102  ...    NaN                NaN           NaN   NaN       NaN   \n",
       "16-0165  ...    NaN                NaN           NaN   NaN       NaN   \n",
       "16-0208  ...    NaN                NaN           NaN   NaN       NaN   \n",
       "13-0052  ...    NaN                NaN           NaN   NaN       NaN   \n",
       "\n",
       "        AnyOpioid MannerofDeath                            DeathCityGeo  \\\n",
       "ID                                                                        \n",
       "14-0273       NaN      Accident             CT\\n(41.575155, -72.738288)   \n",
       "13-0102       NaN      Accident     Norwalk, CT\\n(41.11805, -73.412906)   \n",
       "16-0165         Y      Accident    Danbury, CT\\n(41.393666, -73.451539)   \n",
       "16-0208         Y      Accident  Greenwich, CT\\n(41.026526, -73.628549)   \n",
       "13-0052       NaN      Accident  Greenwich, CT\\n(41.026526, -73.628549)   \n",
       "\n",
       "                                ResidenceCityGeo                InjuryCityGeo  \n",
       "ID                                                                             \n",
       "14-0273              CT\\n(41.575155, -72.738288)  CT\\n(41.575155, -72.738288)  \n",
       "13-0102      NORWALK, CT\\n(41.11805, -73.412906)  CT\\n(41.575155, -72.738288)  \n",
       "16-0165  SANDY HOOK, CT\\n(41.419998, -73.282501)                          NaN  \n",
       "16-0208                                      NaN                          NaN  \n",
       "13-0052                                      NaN  CT\\n(41.575155, -72.738288)  \n",
       "\n",
       "[5 rows x 40 columns]"
      ]
     },
     "execution_count": 1,
     "metadata": {},
     "output_type": "execute_result"
    }
   ],
   "source": [
    "#Import packages, change directory, inspect data\n",
    "import pandas as pd\n",
    "import re\n",
    "import os\n",
    "import datetime\n",
    "os.chdir('C:\\\\Users\\\\mhous\\\\CT\\\\CT-Drug-Deaths')\n",
    "df = pd.read_csv('Accidental_Drug_Related_Deaths_2012-2018.csv', index_col = ['ID'])\n",
    "df.head()"
   ]
  },
  {
   "cell_type": "markdown",
   "metadata": {},
   "source": [
    "Data comes from https://data.ct.gov/Health-and-Human-Services/Accidental-Drug-Related-Deaths-2012-2018/rybz-nyjw\n",
    "\n",
    "The purpose of this mini-project is to practice the principles data cleaning, exploratory data analysis and data visualization"
   ]
  },
  {
   "cell_type": "code",
   "execution_count": 2,
   "metadata": {},
   "outputs": [
    {
     "name": "stdout",
     "output_type": "stream",
     "text": [
      "<class 'pandas.core.frame.DataFrame'>\n",
      "Index: 5105 entries, 14-0273 to 16-0637\n",
      "Data columns (total 40 columns):\n",
      " #   Column               Non-Null Count  Dtype  \n",
      "---  ------               --------------  -----  \n",
      " 0   Date                 5103 non-null   object \n",
      " 1   DateType             5103 non-null   object \n",
      " 2   Age                  5102 non-null   float64\n",
      " 3   Sex                  5099 non-null   object \n",
      " 4   Race                 5092 non-null   object \n",
      " 5   ResidenceCity        4932 non-null   object \n",
      " 6   ResidenceCounty      4308 non-null   object \n",
      " 7   ResidenceState       3556 non-null   object \n",
      " 8   DeathCity            5100 non-null   object \n",
      " 9   DeathCounty          4005 non-null   object \n",
      " 10  Location             5081 non-null   object \n",
      " 11  LocationifOther      590 non-null    object \n",
      " 12  DescriptionofInjury  4325 non-null   object \n",
      " 13  InjuryPlace          5039 non-null   object \n",
      " 14  InjuryCity           3349 non-null   object \n",
      " 15  InjuryCounty         2364 non-null   object \n",
      " 16  InjuryState          1424 non-null   object \n",
      " 17  COD                  5105 non-null   object \n",
      " 18  OtherSignifican      169 non-null    object \n",
      " 19  Heroin               2529 non-null   object \n",
      " 20  Cocaine              1521 non-null   object \n",
      " 21  Fentanyl             2232 non-null   object \n",
      " 22  FentanylAnalogue     389 non-null    object \n",
      " 23  Oxycodone            607 non-null    object \n",
      " 24  Oxymorphone          108 non-null    object \n",
      " 25  Ethanol              1247 non-null   object \n",
      " 26  Hydrocodone          118 non-null    object \n",
      " 27  Benzodiazepine       1343 non-null   object \n",
      " 28  Methadone            474 non-null    object \n",
      " 29  Amphet               159 non-null    object \n",
      " 30  Tramad               130 non-null    object \n",
      " 31  Morphine_NotHeroin   42 non-null     object \n",
      " 32  Hydromorphone        25 non-null     object \n",
      " 33  Other                435 non-null    object \n",
      " 34  OpiateNOS            88 non-null     object \n",
      " 35  AnyOpioid            2466 non-null   object \n",
      " 36  MannerofDeath        5095 non-null   object \n",
      " 37  DeathCityGeo         5105 non-null   object \n",
      " 38  ResidenceCityGeo     5012 non-null   object \n",
      " 39  InjuryCityGeo        5027 non-null   object \n",
      "dtypes: float64(1), object(39)\n",
      "memory usage: 1.6+ MB\n"
     ]
    }
   ],
   "source": [
    "df.info()"
   ]
  },
  {
   "cell_type": "markdown",
   "metadata": {},
   "source": [
    "We have 40 columns. The first 19 are descriptions of the victim and their whereabouts, the next 15 are indicator variables that tell us if that drug was found in their system, and the last 4 provide more detail about the geographic coordinates and manner of death.\n",
    "\n",
    "Let's start by inspecting the Date column"
   ]
  },
  {
   "cell_type": "code",
   "execution_count": 3,
   "metadata": {},
   "outputs": [
    {
     "data": {
      "text/plain": [
       "ID\n",
       "14-0273    06/28/2014 12:00:00 AM\n",
       "13-0102    03/21/2013 12:00:00 AM\n",
       "16-0165    03/13/2016 12:00:00 AM\n",
       "16-0208    03/31/2016 12:00:00 AM\n",
       "13-0052    02/13/2013 12:00:00 AM\n",
       "Name: Date, dtype: object"
      ]
     },
     "execution_count": 3,
     "metadata": {},
     "output_type": "execute_result"
    }
   ],
   "source": [
    "df['Date'].head()"
   ]
  },
  {
   "cell_type": "markdown",
   "metadata": {},
   "source": [
    "Let's make sure that every time of death is midnight "
   ]
  },
  {
   "cell_type": "code",
   "execution_count": 4,
   "metadata": {},
   "outputs": [
    {
     "data": {
      "text/plain": [
       "12:00:00    5103\n",
       "Name: Date, dtype: int64"
      ]
     },
     "execution_count": 4,
     "metadata": {},
     "output_type": "execute_result"
    }
   ],
   "source": [
    "df['Date'].str.split().str[-2].value_counts()"
   ]
  },
  {
   "cell_type": "markdown",
   "metadata": {},
   "source": [
    "Since every time of death is midnight, so we ignore that when converting the date column to type datetime. We also create a year column for visualization purposes."
   ]
  },
  {
   "cell_type": "code",
   "execution_count": 5,
   "metadata": {},
   "outputs": [],
   "source": [
    "df['Date'] = pd.to_datetime(df['Date'])\n",
    "df['Year'] = df['Date'].dt.year"
   ]
  },
  {
   "cell_type": "markdown",
   "metadata": {},
   "source": [
    "Let's look at some of the descriptive columns. We note that ResidenceCity, ResidenceCounty, DeathCity, and DeathCounty are all in uppercase, which is a little unsightly. We correct this by setting each column to title case."
   ]
  },
  {
   "cell_type": "code",
   "execution_count": 6,
   "metadata": {},
   "outputs": [
    {
     "data": {
      "text/html": [
       "<div>\n",
       "<style scoped>\n",
       "    .dataframe tbody tr th:only-of-type {\n",
       "        vertical-align: middle;\n",
       "    }\n",
       "\n",
       "    .dataframe tbody tr th {\n",
       "        vertical-align: top;\n",
       "    }\n",
       "\n",
       "    .dataframe thead th {\n",
       "        text-align: right;\n",
       "    }\n",
       "</style>\n",
       "<table border=\"1\" class=\"dataframe\">\n",
       "  <thead>\n",
       "    <tr style=\"text-align: right;\">\n",
       "      <th></th>\n",
       "      <th>ResidenceCity</th>\n",
       "      <th>ResidenceCounty</th>\n",
       "      <th>DeathCity</th>\n",
       "      <th>DeathCounty</th>\n",
       "    </tr>\n",
       "    <tr>\n",
       "      <th>ID</th>\n",
       "      <th></th>\n",
       "      <th></th>\n",
       "      <th></th>\n",
       "      <th></th>\n",
       "    </tr>\n",
       "  </thead>\n",
       "  <tbody>\n",
       "    <tr>\n",
       "      <th>14-0273</th>\n",
       "      <td>NaN</td>\n",
       "      <td>NaN</td>\n",
       "      <td>NaN</td>\n",
       "      <td>NaN</td>\n",
       "    </tr>\n",
       "    <tr>\n",
       "      <th>13-0102</th>\n",
       "      <td>NORWALK</td>\n",
       "      <td>NaN</td>\n",
       "      <td>NORWALK</td>\n",
       "      <td>FAIRFIELD</td>\n",
       "    </tr>\n",
       "    <tr>\n",
       "      <th>16-0165</th>\n",
       "      <td>SANDY HOOK</td>\n",
       "      <td>FAIRFIELD</td>\n",
       "      <td>DANBURY</td>\n",
       "      <td>NaN</td>\n",
       "    </tr>\n",
       "    <tr>\n",
       "      <th>16-0208</th>\n",
       "      <td>RYE</td>\n",
       "      <td>WESTCHESTER</td>\n",
       "      <td>GREENWICH</td>\n",
       "      <td>NaN</td>\n",
       "    </tr>\n",
       "    <tr>\n",
       "      <th>13-0052</th>\n",
       "      <td>FLUSHING</td>\n",
       "      <td>QUEENS</td>\n",
       "      <td>GREENWICH</td>\n",
       "      <td>FAIRFIELD</td>\n",
       "    </tr>\n",
       "  </tbody>\n",
       "</table>\n",
       "</div>"
      ],
      "text/plain": [
       "        ResidenceCity ResidenceCounty  DeathCity DeathCounty\n",
       "ID                                                          \n",
       "14-0273           NaN             NaN        NaN         NaN\n",
       "13-0102       NORWALK             NaN    NORWALK   FAIRFIELD\n",
       "16-0165    SANDY HOOK       FAIRFIELD    DANBURY         NaN\n",
       "16-0208           RYE     WESTCHESTER  GREENWICH         NaN\n",
       "13-0052      FLUSHING          QUEENS  GREENWICH   FAIRFIELD"
      ]
     },
     "execution_count": 6,
     "metadata": {},
     "output_type": "execute_result"
    }
   ],
   "source": [
    "uppercase_columns = ['ResidenceCity', 'ResidenceCounty', 'DeathCity', 'DeathCounty']\n",
    "\n",
    "df[uppercase_columns].head()"
   ]
  },
  {
   "cell_type": "code",
   "execution_count": 7,
   "metadata": {},
   "outputs": [
    {
     "data": {
      "text/html": [
       "<div>\n",
       "<style scoped>\n",
       "    .dataframe tbody tr th:only-of-type {\n",
       "        vertical-align: middle;\n",
       "    }\n",
       "\n",
       "    .dataframe tbody tr th {\n",
       "        vertical-align: top;\n",
       "    }\n",
       "\n",
       "    .dataframe thead th {\n",
       "        text-align: right;\n",
       "    }\n",
       "</style>\n",
       "<table border=\"1\" class=\"dataframe\">\n",
       "  <thead>\n",
       "    <tr style=\"text-align: right;\">\n",
       "      <th></th>\n",
       "      <th>ResidenceCity</th>\n",
       "      <th>ResidenceCounty</th>\n",
       "      <th>DeathCity</th>\n",
       "      <th>DeathCounty</th>\n",
       "    </tr>\n",
       "    <tr>\n",
       "      <th>ID</th>\n",
       "      <th></th>\n",
       "      <th></th>\n",
       "      <th></th>\n",
       "      <th></th>\n",
       "    </tr>\n",
       "  </thead>\n",
       "  <tbody>\n",
       "    <tr>\n",
       "      <th>14-0273</th>\n",
       "      <td>NaN</td>\n",
       "      <td>NaN</td>\n",
       "      <td>NaN</td>\n",
       "      <td>NaN</td>\n",
       "    </tr>\n",
       "    <tr>\n",
       "      <th>13-0102</th>\n",
       "      <td>Norwalk</td>\n",
       "      <td>NaN</td>\n",
       "      <td>Norwalk</td>\n",
       "      <td>Fairfield</td>\n",
       "    </tr>\n",
       "    <tr>\n",
       "      <th>16-0165</th>\n",
       "      <td>Sandy Hook</td>\n",
       "      <td>Fairfield</td>\n",
       "      <td>Danbury</td>\n",
       "      <td>NaN</td>\n",
       "    </tr>\n",
       "    <tr>\n",
       "      <th>16-0208</th>\n",
       "      <td>Rye</td>\n",
       "      <td>Westchester</td>\n",
       "      <td>Greenwich</td>\n",
       "      <td>NaN</td>\n",
       "    </tr>\n",
       "    <tr>\n",
       "      <th>13-0052</th>\n",
       "      <td>Flushing</td>\n",
       "      <td>Queens</td>\n",
       "      <td>Greenwich</td>\n",
       "      <td>Fairfield</td>\n",
       "    </tr>\n",
       "  </tbody>\n",
       "</table>\n",
       "</div>"
      ],
      "text/plain": [
       "        ResidenceCity ResidenceCounty  DeathCity DeathCounty\n",
       "ID                                                          \n",
       "14-0273           NaN             NaN        NaN         NaN\n",
       "13-0102       Norwalk             NaN    Norwalk   Fairfield\n",
       "16-0165    Sandy Hook       Fairfield    Danbury         NaN\n",
       "16-0208           Rye     Westchester  Greenwich         NaN\n",
       "13-0052      Flushing          Queens  Greenwich   Fairfield"
      ]
     },
     "execution_count": 7,
     "metadata": {},
     "output_type": "execute_result"
    }
   ],
   "source": [
    "for i in uppercase_columns:\n",
    "    df[i] = df[i].str.title()\n",
    "    \n",
    "df[uppercase_columns].head()"
   ]
  },
  {
   "cell_type": "code",
   "execution_count": 8,
   "metadata": {},
   "outputs": [
    {
     "data": {
      "text/plain": [
       "Hartford      1233\n",
       "New Haven     1107\n",
       "Fairfield      623\n",
       "New London     368\n",
       "Litchfield     237\n",
       "Middlesex      181\n",
       "Windham        142\n",
       "Tolland        113\n",
       "Usa              1\n",
       "Name: DeathCounty, dtype: int64"
      ]
     },
     "execution_count": 8,
     "metadata": {},
     "output_type": "execute_result"
    }
   ],
   "source": [
    "df['DeathCounty'].value_counts()"
   ]
  },
  {
   "cell_type": "markdown",
   "metadata": {},
   "source": [
    "Since Usa is not a county, let's look at the observation and see if we can fix it."
   ]
  },
  {
   "cell_type": "code",
   "execution_count": 9,
   "metadata": {},
   "outputs": [
    {
     "data": {
      "text/html": [
       "<div>\n",
       "<style scoped>\n",
       "    .dataframe tbody tr th:only-of-type {\n",
       "        vertical-align: middle;\n",
       "    }\n",
       "\n",
       "    .dataframe tbody tr th {\n",
       "        vertical-align: top;\n",
       "    }\n",
       "\n",
       "    .dataframe thead th {\n",
       "        text-align: right;\n",
       "    }\n",
       "</style>\n",
       "<table border=\"1\" class=\"dataframe\">\n",
       "  <thead>\n",
       "    <tr style=\"text-align: right;\">\n",
       "      <th></th>\n",
       "      <th>Date</th>\n",
       "      <th>DateType</th>\n",
       "      <th>Age</th>\n",
       "      <th>Sex</th>\n",
       "      <th>Race</th>\n",
       "      <th>ResidenceCity</th>\n",
       "      <th>ResidenceCounty</th>\n",
       "      <th>ResidenceState</th>\n",
       "      <th>DeathCity</th>\n",
       "      <th>DeathCounty</th>\n",
       "      <th>...</th>\n",
       "      <th>Morphine_NotHeroin</th>\n",
       "      <th>Hydromorphone</th>\n",
       "      <th>Other</th>\n",
       "      <th>OpiateNOS</th>\n",
       "      <th>AnyOpioid</th>\n",
       "      <th>MannerofDeath</th>\n",
       "      <th>DeathCityGeo</th>\n",
       "      <th>ResidenceCityGeo</th>\n",
       "      <th>InjuryCityGeo</th>\n",
       "      <th>Year</th>\n",
       "    </tr>\n",
       "    <tr>\n",
       "      <th>ID</th>\n",
       "      <th></th>\n",
       "      <th></th>\n",
       "      <th></th>\n",
       "      <th></th>\n",
       "      <th></th>\n",
       "      <th></th>\n",
       "      <th></th>\n",
       "      <th></th>\n",
       "      <th></th>\n",
       "      <th></th>\n",
       "      <th></th>\n",
       "      <th></th>\n",
       "      <th></th>\n",
       "      <th></th>\n",
       "      <th></th>\n",
       "      <th></th>\n",
       "      <th></th>\n",
       "      <th></th>\n",
       "      <th></th>\n",
       "      <th></th>\n",
       "      <th></th>\n",
       "    </tr>\n",
       "  </thead>\n",
       "  <tbody>\n",
       "    <tr>\n",
       "      <th>13-0339</th>\n",
       "      <td>2013-10-07</td>\n",
       "      <td>DateofDeath</td>\n",
       "      <td>56.0</td>\n",
       "      <td>Female</td>\n",
       "      <td>White</td>\n",
       "      <td>Hartford</td>\n",
       "      <td>Usa</td>\n",
       "      <td>NaN</td>\n",
       "      <td>Hartford</td>\n",
       "      <td>Usa</td>\n",
       "      <td>...</td>\n",
       "      <td>NaN</td>\n",
       "      <td>NaN</td>\n",
       "      <td>NaN</td>\n",
       "      <td>NaN</td>\n",
       "      <td>NaN</td>\n",
       "      <td>Accident</td>\n",
       "      <td>Hartford, CT\\n(41.765775, -72.673356)</td>\n",
       "      <td>HARTFORD, CT\\n(41.765775, -72.673356)</td>\n",
       "      <td>CT\\n(41.575155, -72.738288)</td>\n",
       "      <td>2013.0</td>\n",
       "    </tr>\n",
       "  </tbody>\n",
       "</table>\n",
       "<p>1 rows × 41 columns</p>\n",
       "</div>"
      ],
      "text/plain": [
       "              Date     DateType   Age     Sex   Race ResidenceCity  \\\n",
       "ID                                                                   \n",
       "13-0339 2013-10-07  DateofDeath  56.0  Female  White      Hartford   \n",
       "\n",
       "        ResidenceCounty ResidenceState DeathCity DeathCounty  ...  \\\n",
       "ID                                                            ...   \n",
       "13-0339             Usa            NaN  Hartford         Usa  ...   \n",
       "\n",
       "        Morphine_NotHeroin Hydromorphone Other OpiateNOS AnyOpioid  \\\n",
       "ID                                                                   \n",
       "13-0339                NaN           NaN   NaN       NaN       NaN   \n",
       "\n",
       "        MannerofDeath                           DeathCityGeo  \\\n",
       "ID                                                             \n",
       "13-0339      Accident  Hartford, CT\\n(41.765775, -72.673356)   \n",
       "\n",
       "                              ResidenceCityGeo                InjuryCityGeo  \\\n",
       "ID                                                                            \n",
       "13-0339  HARTFORD, CT\\n(41.765775, -72.673356)  CT\\n(41.575155, -72.738288)   \n",
       "\n",
       "           Year  \n",
       "ID               \n",
       "13-0339  2013.0  \n",
       "\n",
       "[1 rows x 41 columns]"
      ]
     },
     "execution_count": 9,
     "metadata": {},
     "output_type": "execute_result"
    }
   ],
   "source": [
    "df[df['DeathCounty'] == 'Usa'] "
   ]
  },
  {
   "cell_type": "markdown",
   "metadata": {},
   "source": [
    "Since both the ResidencyCity and DeathCity is Hartford, that means the ResidenceCounty and DeathCounty are Hartford County. Let's replace  'Usa' with 'Hartford'.\n"
   ]
  },
  {
   "cell_type": "code",
   "execution_count": 10,
   "metadata": {},
   "outputs": [
    {
     "data": {
      "text/plain": [
       "Hartford      1234\n",
       "New Haven     1107\n",
       "Fairfield      623\n",
       "New London     368\n",
       "Litchfield     237\n",
       "Middlesex      181\n",
       "Windham        142\n",
       "Tolland        113\n",
       "Name: DeathCounty, dtype: int64"
      ]
     },
     "execution_count": 10,
     "metadata": {},
     "output_type": "execute_result"
    }
   ],
   "source": [
    "df['DeathCounty'] = df['DeathCounty'].replace('Usa', 'Hartford')\n",
    "df['ResidenceCounty'] = df['ResidenceCounty'].replace('Usa', 'Hartford')\n",
    "df['DeathCounty'].value_counts()"
   ]
  },
  {
   "cell_type": "markdown",
   "metadata": {},
   "source": [
    "The DateType column is consistent, so no cleaning necessary"
   ]
  },
  {
   "cell_type": "code",
   "execution_count": 11,
   "metadata": {},
   "outputs": [
    {
     "data": {
      "text/plain": [
       "DateofDeath     2822\n",
       "DateReported    2281\n",
       "Name: DateType, dtype: int64"
      ]
     },
     "execution_count": 11,
     "metadata": {},
     "output_type": "execute_result"
    }
   ],
   "source": [
    "df['DateType'].value_counts()"
   ]
  },
  {
   "cell_type": "code",
   "execution_count": 12,
   "metadata": {},
   "outputs": [
    {
     "data": {
      "text/plain": [
       "Accident    5066\n",
       "Pending       14\n",
       "accident      13\n",
       "Natural        1\n",
       "ACCIDENT       1\n",
       "Name: MannerofDeath, dtype: int64"
      ]
     },
     "execution_count": 12,
     "metadata": {},
     "output_type": "execute_result"
    }
   ],
   "source": [
    "df['MannerofDeath'].value_counts()"
   ]
  },
  {
   "cell_type": "markdown",
   "metadata": {},
   "source": [
    "Since there are multiple spellings of 'Accident', let's merge them."
   ]
  },
  {
   "cell_type": "code",
   "execution_count": 13,
   "metadata": {},
   "outputs": [
    {
     "data": {
      "text/plain": [
       "Accident    5080\n",
       "Pending       14\n",
       "Natural        1\n",
       "Name: MannerofDeath, dtype: int64"
      ]
     },
     "execution_count": 13,
     "metadata": {},
     "output_type": "execute_result"
    }
   ],
   "source": [
    "df['MannerofDeath'] = df['MannerofDeath'].replace('ACCIDENT', 'Accident')\n",
    "df['MannerofDeath'] = df['MannerofDeath'].replace('accident', 'Accident')\n",
    "df['MannerofDeath'].value_counts()"
   ]
  },
  {
   "cell_type": "code",
   "execution_count": 14,
   "metadata": {},
   "outputs": [
    {
     "name": "stdout",
     "output_type": "stream",
     "text": [
      "ID\n",
      "12-0276    Oxycodone Toxicity\n",
      "Name: COD, dtype: object ID\n",
      "12-0276    Atherosclerotic Cardiovascular Disease\n",
      "Name: OtherSignifican, dtype: object\n"
     ]
    }
   ],
   "source": [
    "#Inspect what the Natural death is\n",
    "print(df[df['MannerofDeath']=='Natural']['COD'], df[df['MannerofDeath']=='Natural']['OtherSignifican'])"
   ]
  },
  {
   "cell_type": "markdown",
   "metadata": {},
   "source": [
    "The dataset is specifically described as 'Accidental Drug Related Deaths 2012-2018', so if the autopsy says the cause of death was natural, then there's no need to change anything.\n",
    "\n",
    "Let's check some more columns to see if they're clean or not"
   ]
  },
  {
   "cell_type": "code",
   "execution_count": 15,
   "metadata": {},
   "outputs": [
    {
     "data": {
      "text/plain": [
       "Residence            2677\n",
       "Hospital             1626\n",
       "Other                 773\n",
       "Convalescent Home       3\n",
       "Nursing Home            1\n",
       "Hospice                 1\n",
       "Name: Location, dtype: int64"
      ]
     },
     "execution_count": 15,
     "metadata": {},
     "output_type": "execute_result"
    }
   ],
   "source": [
    "df['Location'].value_counts()"
   ]
  },
  {
   "cell_type": "code",
   "execution_count": 16,
   "metadata": {},
   "outputs": [
    {
     "data": {
      "text/plain": [
       "White                     4004\n",
       "Hispanic, White            561\n",
       "Black                      433\n",
       "Hispanic, Black             24\n",
       "Unknown                     23\n",
       "Asian, Other                18\n",
       "Asian Indian                14\n",
       "Other                       11\n",
       "Chinese                      2\n",
       "Hawaiian                     1\n",
       "Native American, Other       1\n",
       "Name: Race, dtype: int64"
      ]
     },
     "execution_count": 16,
     "metadata": {},
     "output_type": "execute_result"
    }
   ],
   "source": [
    "df['Race'].value_counts()"
   ]
  },
  {
   "cell_type": "code",
   "execution_count": 17,
   "metadata": {},
   "outputs": [
    {
     "data": {
      "text/plain": [
       "Male       3773\n",
       "Female     1325\n",
       "Unknown       1\n",
       "Name: Sex, dtype: int64"
      ]
     },
     "execution_count": 17,
     "metadata": {},
     "output_type": "execute_result"
    }
   ],
   "source": [
    "df['Sex'].value_counts()"
   ]
  },
  {
   "cell_type": "markdown",
   "metadata": {},
   "source": [
    "Location, Race and Sex are all consistent, so no cleaning can be done."
   ]
  },
  {
   "cell_type": "code",
   "execution_count": 18,
   "metadata": {},
   "outputs": [
    {
     "data": {
      "text/plain": [
       "Substance Abuse    1618\n",
       "Drug Use            491\n",
       "Substance abuse     402\n",
       "Ingestion           334\n",
       "substance abuse     298\n",
       "Drug abuse          203\n",
       "Injection           158\n",
       "Inhalation          113\n",
       "SUBSTANCE ABUSE      66\n",
       "drug use             62\n",
       "Name: DescriptionofInjury, dtype: int64"
      ]
     },
     "execution_count": 18,
     "metadata": {},
     "output_type": "execute_result"
    }
   ],
   "source": [
    "df['DescriptionofInjury'].value_counts().head(10)"
   ]
  },
  {
   "cell_type": "markdown",
   "metadata": {},
   "source": [
    "This variable probably works best when describing an individual's death, and not for a broad understanding of the data. I also don't have domain specific knowledge, so I'm not sure if there is really a substantive difference between Substance Abuse and Drug Use. \n",
    "\n",
    "Let's now convert the indicator variables the have 1/0s. "
   ]
  },
  {
   "cell_type": "code",
   "execution_count": 19,
   "metadata": {},
   "outputs": [
    {
     "data": {
      "text/html": [
       "<div>\n",
       "<style scoped>\n",
       "    .dataframe tbody tr th:only-of-type {\n",
       "        vertical-align: middle;\n",
       "    }\n",
       "\n",
       "    .dataframe tbody tr th {\n",
       "        vertical-align: top;\n",
       "    }\n",
       "\n",
       "    .dataframe thead th {\n",
       "        text-align: right;\n",
       "    }\n",
       "</style>\n",
       "<table border=\"1\" class=\"dataframe\">\n",
       "  <thead>\n",
       "    <tr style=\"text-align: right;\">\n",
       "      <th></th>\n",
       "      <th>Heroin</th>\n",
       "      <th>Cocaine</th>\n",
       "      <th>Fentanyl</th>\n",
       "      <th>FentanylAnalogue</th>\n",
       "      <th>Oxycodone</th>\n",
       "      <th>Oxymorphone</th>\n",
       "      <th>Ethanol</th>\n",
       "      <th>Hydrocodone</th>\n",
       "      <th>Benzodiazepine</th>\n",
       "      <th>Methadone</th>\n",
       "      <th>Amphet</th>\n",
       "      <th>Tramad</th>\n",
       "      <th>Morphine_NotHeroin</th>\n",
       "      <th>Hydromorphone</th>\n",
       "      <th>Other</th>\n",
       "      <th>OpiateNOS</th>\n",
       "      <th>AnyOpioid</th>\n",
       "    </tr>\n",
       "    <tr>\n",
       "      <th>ID</th>\n",
       "      <th></th>\n",
       "      <th></th>\n",
       "      <th></th>\n",
       "      <th></th>\n",
       "      <th></th>\n",
       "      <th></th>\n",
       "      <th></th>\n",
       "      <th></th>\n",
       "      <th></th>\n",
       "      <th></th>\n",
       "      <th></th>\n",
       "      <th></th>\n",
       "      <th></th>\n",
       "      <th></th>\n",
       "      <th></th>\n",
       "      <th></th>\n",
       "      <th></th>\n",
       "    </tr>\n",
       "  </thead>\n",
       "  <tbody>\n",
       "    <tr>\n",
       "      <th>14-0273</th>\n",
       "      <td>0</td>\n",
       "      <td>0</td>\n",
       "      <td>1</td>\n",
       "      <td>0</td>\n",
       "      <td>0</td>\n",
       "      <td>0</td>\n",
       "      <td>0</td>\n",
       "      <td>1</td>\n",
       "      <td>1</td>\n",
       "      <td>0</td>\n",
       "      <td>0</td>\n",
       "      <td>0</td>\n",
       "      <td>0</td>\n",
       "      <td>0</td>\n",
       "      <td>0</td>\n",
       "      <td>0</td>\n",
       "      <td>0</td>\n",
       "    </tr>\n",
       "    <tr>\n",
       "      <th>13-0102</th>\n",
       "      <td>0</td>\n",
       "      <td>1</td>\n",
       "      <td>0</td>\n",
       "      <td>0</td>\n",
       "      <td>0</td>\n",
       "      <td>0</td>\n",
       "      <td>0</td>\n",
       "      <td>0</td>\n",
       "      <td>0</td>\n",
       "      <td>0</td>\n",
       "      <td>0</td>\n",
       "      <td>0</td>\n",
       "      <td>0</td>\n",
       "      <td>0</td>\n",
       "      <td>0</td>\n",
       "      <td>0</td>\n",
       "      <td>0</td>\n",
       "    </tr>\n",
       "  </tbody>\n",
       "</table>\n",
       "</div>"
      ],
      "text/plain": [
       "         Heroin  Cocaine  Fentanyl  FentanylAnalogue  Oxycodone  Oxymorphone  \\\n",
       "ID                                                                             \n",
       "14-0273       0        0         1                 0          0            0   \n",
       "13-0102       0        1         0                 0          0            0   \n",
       "\n",
       "         Ethanol  Hydrocodone  Benzodiazepine  Methadone  Amphet  Tramad  \\\n",
       "ID                                                                         \n",
       "14-0273        0            1               1          0       0       0   \n",
       "13-0102        0            0               0          0       0       0   \n",
       "\n",
       "         Morphine_NotHeroin  Hydromorphone  Other  OpiateNOS  AnyOpioid  \n",
       "ID                                                                       \n",
       "14-0273                   0              0      0          0          0  \n",
       "13-0102                   0              0      0          0          0  "
      ]
     },
     "execution_count": 19,
     "metadata": {},
     "output_type": "execute_result"
    }
   ],
   "source": [
    "#Since other is different from the others, we have to clean that separately\n",
    "df['Other'] = df['Other'].replace('.', 1,regex=True).fillna(0).astype(int, errors = 'ignore')\n",
    "drug_columns = list(df.columns[19:36])\n",
    "\n",
    "#Fill any NaNs with a 0, and any words with a 1\n",
    "df[drug_columns] = df[drug_columns].fillna(0).replace(r'\\w', 1, regex = True)\n",
    "df[drug_columns].head(2)"
   ]
  },
  {
   "cell_type": "markdown",
   "metadata": {},
   "source": [
    "Let's also create an indicator variable for if the Description of Injury contains words starting with [Mm]ed. We choose [Mm]ed because when we inspected the data we found that some descriptions said \"Meds\" or \"meds\", and also \"Medicine\" or \"Medication\""
   ]
  },
  {
   "cell_type": "code",
   "execution_count": 20,
   "metadata": {},
   "outputs": [
    {
     "data": {
      "text/plain": [
       "0    4894\n",
       "1     211\n",
       "Name: Medication, dtype: int64"
      ]
     },
     "execution_count": 20,
     "metadata": {},
     "output_type": "execute_result"
    }
   ],
   "source": [
    "df['Medication'] = '0'\n",
    "mask_med = df['DescriptionofInjury'].str.contains('[Mm]ed+') == True\n",
    "df.loc[mask_med, 'Medication'] = 1\n",
    "df['Medication'].value_counts()"
   ]
  },
  {
   "cell_type": "code",
   "execution_count": 21,
   "metadata": {},
   "outputs": [],
   "source": [
    "#Make sure the drug columns are integers\n",
    "df[drug_columns] = df[drug_columns].astype(int, errors='ignore')"
   ]
  },
  {
   "cell_type": "markdown",
   "metadata": {},
   "source": [
    "We can also create a column that indicates the number of drugs that were found in the victim's body"
   ]
  },
  {
   "cell_type": "code",
   "execution_count": 22,
   "metadata": {},
   "outputs": [
    {
     "name": "stdout",
     "output_type": "stream",
     "text": [
      "2    1490\n",
      "3    1392\n",
      "1     882\n",
      "4     873\n",
      "5     345\n",
      "6      79\n",
      "7      24\n",
      "0      18\n",
      "8       2\n",
      "Name: Number_of_drugs, dtype: int64\n"
     ]
    }
   ],
   "source": [
    "df['Number_of_drugs'] = df[drug_columns].sum(axis=1)\n",
    "print(df['Number_of_drugs'].value_counts())"
   ]
  },
  {
   "cell_type": "markdown",
   "metadata": {},
   "source": [
    "It doesn't make sense for there to be accidental drug deaths where there were no drugs found in the system, so let's look at the cause of death for the observations that appear to have 0 drugs in their system. "
   ]
  },
  {
   "cell_type": "code",
   "execution_count": 23,
   "metadata": {},
   "outputs": [
    {
     "data": {
      "text/plain": [
       "ID\n",
       "15-0314                                  ethanol, clonazepam\n",
       "18-0641                          Acute Ketamine Intoxication\n",
       "18-0610                            Acute Opioid Intoxication\n",
       "13-0236                   Massive Pontine Hemorrhage/cocaine\n",
       "14-0523                                  Opiate Intoxication\n",
       "18-0935                          Acute Ketamine Intoxication\n",
       "18-0855                Acute 1,1-Difluoroethane Intoxication\n",
       "13-0249    Intoxication due to the Combined Effects of Mo...\n",
       "18-0752                      Acute Cocaethylene Intoxication\n",
       "15-0296    Cocaine induced Ruptured Cerebral Aneurysm COC...\n",
       "17-0137    Combined Effects of Lamotrigine, Quetiapine, S...\n",
       "12-0055                               Multiple Drug Toxicity\n",
       "15-0024    Intoxication due to the combined effects of Et...\n",
       "17-0906    Hypertensive Cardiovascular Disease  and Acute...\n",
       "13-0305    Acute Intoxiation due to the combined effects ...\n",
       "13-0023          Acute and Chronic Substance Abuse (Opiates)\n",
       "18-0569                Complications of Acute Opiod Toxicity\n",
       "17-0894    Hypertensive Cardiovascular Disease  and Acute...\n",
       "Name: COD, dtype: object"
      ]
     },
     "execution_count": 23,
     "metadata": {},
     "output_type": "execute_result"
    }
   ],
   "source": [
    "df[df['Number_of_drugs'] == 0]['COD']"
   ]
  },
  {
   "cell_type": "markdown",
   "metadata": {},
   "source": [
    "Since there's only 18 observations like this, is probably isn't necessary to manually fix each observation, but we still decided to do so. "
   ]
  },
  {
   "cell_type": "code",
   "execution_count": 24,
   "metadata": {},
   "outputs": [],
   "source": [
    "df.loc['15-0314', 'Benzodiazepine'] = 1\n",
    "df.loc['15-0314', 'Ethanol'] = 1\n",
    "df.loc['18-0641', 'Other'] = 1\n",
    "df.loc['18-0610', 'AnyOpioid'] = 1\n",
    "df.loc['13-0236', 'Cocaine'] = 1\n",
    "df.loc['14-0523', 'AnyOpioid'] = 1\n",
    "df.loc['18-0935', 'Other'] = 1\n",
    "df.loc['18-0855', 'Other'] = 1\n",
    "df.loc['13-0249', 'Morphine_NotHeroin']  = 1\n",
    "df.loc['13-0249', 'Other']  = 1\n",
    "df.loc['18-0752', 'Other'] = 1\n",
    "df.loc['15-0296', 'Cocaine'] = 1\n",
    "df.loc['17-0137', 'Other'] = 1\n",
    "df.loc['12-0055', 'Other'] = 1\n",
    "df.loc['15-0024', 'Ethanol'] = 1\n",
    "df.loc['15-0024', 'Other'] = 1\n",
    "df.loc['17-0906', 'Other'] = 1\n",
    "df.loc['13-0305', 'AnyOpioid'] = 1\n",
    "df.loc['13-0305', 'Benzodiazepine'] = 1\n",
    "df.loc['13-0023', 'AnyOpioid'] = 1\n",
    "df.loc['18-0569', 'AnyOpioid'] = 1\n",
    "df.loc['17-0894', 'Other'] = 1"
   ]
  },
  {
   "cell_type": "code",
   "execution_count": 25,
   "metadata": {},
   "outputs": [
    {
     "name": "stdout",
     "output_type": "stream",
     "text": [
      "2    1494\n",
      "3    1392\n",
      "1     896\n",
      "4     873\n",
      "5     345\n",
      "6      79\n",
      "7      24\n",
      "8       2\n",
      "Name: Number_of_drugs, dtype: int64\n"
     ]
    }
   ],
   "source": [
    "df['Number_of_drugs'] = df[drug_columns].sum(axis=1)\n",
    "print(df['Number_of_drugs'].value_counts())"
   ]
  },
  {
   "cell_type": "code",
   "execution_count": 26,
   "metadata": {},
   "outputs": [
    {
     "data": {
      "text/plain": [
       "Index(['Date', 'DateType', 'Age', 'Sex', 'Race', 'ResidenceCity',\n",
       "       'ResidenceCounty', 'ResidenceState', 'DeathCity', 'DeathCounty',\n",
       "       'Location', 'LocationifOther', 'DescriptionofInjury', 'InjuryPlace',\n",
       "       'InjuryCity', 'InjuryCounty', 'InjuryState', 'COD', 'OtherSignifican',\n",
       "       'Heroin', 'Cocaine', 'Fentanyl', 'FentanylAnalogue', 'Oxycodone',\n",
       "       'Oxymorphone', 'Ethanol', 'Hydrocodone', 'Benzodiazepine', 'Methadone',\n",
       "       'Amphet', 'Tramad', 'Morphine_NotHeroin', 'Hydromorphone', 'Other',\n",
       "       'OpiateNOS', 'AnyOpioid', 'MannerofDeath', 'DeathCityGeo',\n",
       "       'ResidenceCityGeo', 'InjuryCityGeo', 'Year', 'Medication',\n",
       "       'Number_of_drugs'],\n",
       "      dtype='object')"
      ]
     },
     "execution_count": 26,
     "metadata": {},
     "output_type": "execute_result"
    }
   ],
   "source": [
    "df.columns"
   ]
  },
  {
   "cell_type": "markdown",
   "metadata": {},
   "source": [
    "All done with cleaning, let's just reindex the columns so they're in more logical locations"
   ]
  },
  {
   "cell_type": "code",
   "execution_count": 27,
   "metadata": {},
   "outputs": [],
   "source": [
    "new_columns = ['Date', 'Year', 'DateType', 'Age', 'Sex', 'Race', 'ResidenceCity',\n",
    "       'ResidenceCounty', 'ResidenceState', 'DeathCity', 'DeathCounty',\n",
    "       'Location', 'LocationifOther', 'DescriptionofInjury', 'InjuryPlace',\n",
    "       'InjuryCity', 'InjuryCounty', 'InjuryState', 'COD', 'OtherSignifican',\n",
    "       'Heroin', 'Cocaine', 'Fentanyl', 'FentanylAnalogue', 'Oxycodone',\n",
    "       'Oxymorphone', 'Ethanol', 'Hydrocodone', 'Benzodiazepine', 'Methadone',\n",
    "       'Amphet', 'Tramad', 'Morphine_NotHeroin', 'Hydromorphone', 'Other',\n",
    "       'OpiateNOS', 'AnyOpioid', 'Medication', 'Number_of_drugs', 'MannerofDeath', 'DeathCityGeo',\n",
    "       'ResidenceCityGeo', 'InjuryCityGeo']\n",
    "df = df.reindex(columns=new_columns)"
   ]
  },
  {
   "cell_type": "markdown",
   "metadata": {},
   "source": [
    "And finally let's export it to csv so we can use it for data visualization in another notebook"
   ]
  },
  {
   "cell_type": "code",
   "execution_count": 28,
   "metadata": {},
   "outputs": [],
   "source": [
    "df.to_csv(r'C:\\\\Users\\\\mhous\\\\CT\\\\CT-Drug-Deaths\\\\drug_deaths_clean.csv')"
   ]
  },
  {
   "cell_type": "code",
   "execution_count": null,
   "metadata": {},
   "outputs": [],
   "source": []
  }
 ],
 "metadata": {
  "kernelspec": {
   "display_name": "Python 3",
   "language": "python",
   "name": "python3"
  },
  "language_info": {
   "codemirror_mode": {
    "name": "ipython",
    "version": 3
   },
   "file_extension": ".py",
   "mimetype": "text/x-python",
   "name": "python",
   "nbconvert_exporter": "python",
   "pygments_lexer": "ipython3",
   "version": "3.8.5"
  }
 },
 "nbformat": 4,
 "nbformat_minor": 4
}
